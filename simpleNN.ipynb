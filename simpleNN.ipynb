{
  "nbformat": 4,
  "nbformat_minor": 0,
  "metadata": {
    "colab": {
      "provenance": [],
      "authorship_tag": "ABX9TyP1QLCH/KK3Y1FnGHaRmlXP",
      "include_colab_link": true
    },
    "kernelspec": {
      "name": "python3",
      "display_name": "Python 3"
    },
    "language_info": {
      "name": "python"
    }
  },
  "cells": [
    {
      "cell_type": "markdown",
      "metadata": {
        "id": "view-in-github",
        "colab_type": "text"
      },
      "source": [
        "<a href=\"https://colab.research.google.com/github/bwanaaa/neural-network/blob/main/simpleNN.ipynb\" target=\"_parent\"><img src=\"https://colab.research.google.com/assets/colab-badge.svg\" alt=\"Open In Colab\"/></a>"
      ]
    },
    {
      "cell_type": "code",
      "execution_count": null,
      "metadata": {
        "id": "YKVDF-jklI4_"
      },
      "outputs": [],
      "source": [
        "import numpy, random, os\n",
        "lr = 1 #learning rate\n",
        "bias = 1 #value of bias\n",
        "weights = [random.random(),random.random(),random.random()] #weights generated in a list (3 weights in total for 2 neurons and the bias)\n",
        "\n",
        "def Perceptron(input1, input2, output) :\n",
        "   outputP = input1*weights[0]+input2*weights[1]+bias*weights[2]\n",
        "   if outputP > 0 : #activation function (here Heaviside)\n",
        "      outputP = 1\n",
        "   else :\n",
        "      outputP = 0\n",
        "   error = output – outputP\n",
        "   weights[0] += error * input1 * lr\n",
        "   weights[1] += error * input2 * lr\n",
        "   weights[2] += error * bias * lr"
      ]
    },
    {
      "cell_type": "code",
      "source": [],
      "metadata": {
        "id": "KiPvpnx6mlkx"
      },
      "execution_count": null,
      "outputs": []
    }
  ]
}